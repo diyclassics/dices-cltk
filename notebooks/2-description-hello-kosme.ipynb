{
 "cells": [
  {
   "cell_type": "code",
   "execution_count": null,
   "metadata": {},
   "outputs": [],
   "source": [
    "# Imports\n",
    "\n",
    "from cltkreaders.grc import GreekTesseraeCorpusReader\n",
    "from pprint import pprint\n",
    "import pickle"
   ]
  },
  {
   "cell_type": "code",
   "execution_count": null,
   "metadata": {},
   "outputs": [],
   "source": [
    "# Setup corpus\n",
    "\n",
    "T = GreekTesseraeCorpusReader()"
   ]
  },
  {
   "cell_type": "code",
   "execution_count": null,
   "metadata": {},
   "outputs": [],
   "source": [
    "# Get text \n",
    "\n",
    "clouds = 'aristophanes.clouds.tess'\n",
    "clouds_words = T.words(clouds)"
   ]
  },
  {
   "cell_type": "code",
   "execution_count": null,
   "metadata": {},
   "outputs": [],
   "source": [
    "# Find word in text\n",
    "\n",
    "for word in clouds_words:\n",
    "    if word == 'κόσμος':\n",
    "        print('Found one!')\n",
    "        break"
   ]
  },
  {
   "cell_type": "code",
   "execution_count": null,
   "metadata": {},
   "outputs": [],
   "source": [
    "clouds_lines = next(T.doc_rows(clouds))\n",
    "clouds_lines = list(clouds_lines.items())"
   ]
  },
  {
   "cell_type": "code",
   "execution_count": null,
   "metadata": {},
   "outputs": [],
   "source": [
    "clouds_lines[:5]"
   ]
  },
  {
   "cell_type": "code",
   "execution_count": null,
   "metadata": {},
   "outputs": [],
   "source": [
    "for citation, line in clouds_lines:\n",
    "    if 'κόσμος' in line:\n",
    "        print('-----')\n",
    "        print(citation)\n",
    "        print(line)\n",
    "        print('-----')\n",
    "        break"
   ]
  },
  {
   "cell_type": "code",
   "execution_count": null,
   "metadata": {},
   "outputs": [],
   "source": [
    "for file in T.fileids()[:5]:\n",
    "    lines = next(T.doc_rows(file))\n",
    "    lines = list(lines.items())\n",
    "    for citation, line in lines:\n",
    "        if 'κόσμος' in line:\n",
    "            print(citation)"
   ]
  },
  {
   "cell_type": "code",
   "execution_count": null,
   "metadata": {},
   "outputs": [],
   "source": [
    "from collections import defaultdict\n",
    "\n",
    "kosmos_counts = defaultdict(int)\n",
    "\n",
    "for file in T.fileids()[:5]:\n",
    "    lines = next(T.doc_rows(file))\n",
    "    lines = list(lines.items())\n",
    "    for citation, line in lines:\n",
    "        if 'κόσμος' in line:\n",
    "            kosmos_counts[file] += 1\n",
    "\n",
    "pprint(kosmos_counts)  "
   ]
  },
  {
   "cell_type": "code",
   "execution_count": null,
   "metadata": {},
   "outputs": [],
   "source": [
    "kosmos_counts = defaultdict(int)\n",
    "\n",
    "for file in T.fileids():\n",
    "    lines = next(T.doc_rows(file))\n",
    "    lines = list(lines.items())\n",
    "    for citation, line in lines:\n",
    "        if 'κόσμος' in line:\n",
    "            kosmos_counts[file] += 1"
   ]
  },
  {
   "cell_type": "code",
   "execution_count": null,
   "metadata": {},
   "outputs": [],
   "source": [
    "'aristophanes.clouds.tess' in kosmos_counts.keys()"
   ]
  },
  {
   "cell_type": "code",
   "execution_count": null,
   "metadata": {},
   "outputs": [],
   "source": [
    "# importing the required library\n",
    "import seaborn as sns\n",
    "import matplotlib.pyplot as plt\n",
    "pal = sns.color_palette(\"colorblind\")"
   ]
  },
  {
   "cell_type": "code",
   "execution_count": null,
   "metadata": {},
   "outputs": [],
   "source": [
    "keys = list(kosmos_counts.keys())\n",
    "vals = list(kosmos_counts.values())\n",
    "\n",
    "plt.figure(figsize=(32, 8))\n",
    "ax = sns.barplot(x=keys, y=vals, palette=pal);\n",
    "plt.xlabel('Works')\n",
    "plt.ylabel('Count')\n",
    "plt.title('κόσμος raw counts in Greek Tesserae')\n",
    "ax.set_xticklabels(labels=keys, rotation=90);\n",
    "plt.show()"
   ]
  },
  {
   "cell_type": "code",
   "execution_count": null,
   "metadata": {},
   "outputs": [],
   "source": [
    "kosmos_counts_sorted = dict(sorted(list(kosmos_counts.items()), key=lambda x: x[1], reverse=True))\n",
    "\n",
    "plt.figure(figsize=(32, 8))\n",
    "ax = sns.barplot(x=list(kosmos_counts_sorted.keys()), y=list(kosmos_counts_sorted.values()), palette=pal);\n",
    "plt.xlabel('Works')\n",
    "plt.ylabel('Count')\n",
    "plt.title('κόσμος raw counts in Greek Tesserae')\n",
    "ax.set_xticklabels(labels=keys, rotation=90);\n",
    "plt.show()\n"
   ]
  },
  {
   "cell_type": "code",
   "execution_count": null,
   "metadata": {},
   "outputs": [],
   "source": [
    "kosmos_counts_sorted = dict(sorted(list(kosmos_counts.items()), key=lambda x: x[1], reverse=True)[:10])\n",
    "keys = list(kosmos_counts_sorted.keys())\n",
    "vals = list(kosmos_counts_sorted.values())\n",
    "\n",
    "plt.figure(figsize=(32, 8))\n",
    "ax = sns.barplot(x=keys, y=vals, palette=pal);\n",
    "plt.xlabel('Works')\n",
    "plt.ylabel('Count')\n",
    "plt.title('κόσμος raw counts in Greek Tesserae')\n",
    "ax.set_xticklabels(labels=keys, rotation=45, horizontalalignment='right');\n",
    "ax.set_yticks(range(0, max(vals), 2))\n",
    "plt.show()"
   ]
  },
  {
   "cell_type": "code",
   "execution_count": null,
   "metadata": {},
   "outputs": [],
   "source": [
    "# word_counts = defaultdict(int)\n",
    "\n",
    "# for file in T.fileids():\n",
    "#     word_count = len(list(T.words(file)))\n",
    "#     word_counts[file] = word_count\n",
    "\n",
    "# pickle.dump(word_counts, open('../data/word_counts.pickle', 'wb'))\n",
    "\n",
    "word_counts = pickle.load(open('../data/word_counts.pickle', 'rb'))"
   ]
  },
  {
   "cell_type": "code",
   "execution_count": null,
   "metadata": {},
   "outputs": [],
   "source": [
    "pprint(list(word_counts.items())[:5])    "
   ]
  },
  {
   "cell_type": "code",
   "execution_count": null,
   "metadata": {},
   "outputs": [],
   "source": [
    "pprint(list(kosmos_counts.items())[:5])"
   ]
  },
  {
   "cell_type": "code",
   "execution_count": null,
   "metadata": {},
   "outputs": [],
   "source": [
    "for i, item in enumerate(kosmos_counts.items()):\n",
    "    text = item[0]\n",
    "    print(text)\n",
    "    kosmos_count = item[1]\n",
    "    print(f'κόσμος appears {kosmos_count} times...')\n",
    "    word_count = list(word_counts.values())[i]\n",
    "    print(f'...in {word_count} total words')\n",
    "    norm_count = (kosmos_count / word_count) * 1000\n",
    "    print(f'The normalized count is {norm_count:.02} per 1000 words')\n",
    "    break"
   ]
  },
  {
   "cell_type": "code",
   "execution_count": null,
   "metadata": {},
   "outputs": [],
   "source": [
    "kosmos_norm_counts = defaultdict(float)\n",
    "\n",
    "for i, item in enumerate(kosmos_counts.items()):\n",
    "    text = item[0]\n",
    "    kosmos_count = item[1]\n",
    "    word_count = list(word_counts.values())[i]\n",
    "    norm_count = (kosmos_count / word_count) * 1000\n",
    "    kosmos_norm_counts[text] = norm_count"
   ]
  },
  {
   "cell_type": "code",
   "execution_count": null,
   "metadata": {},
   "outputs": [],
   "source": [
    "list(kosmos_norm_counts.items())[:5]"
   ]
  },
  {
   "cell_type": "code",
   "execution_count": null,
   "metadata": {},
   "outputs": [],
   "source": [
    "kosmos_norm_counts_sorted = dict(sorted(list(kosmos_norm_counts.items()), key=lambda x: x[1], reverse=True)[:10])\n",
    "keys = list(kosmos_norm_counts_sorted.keys())\n",
    "vals = list(kosmos_norm_counts_sorted.values())\n",
    "\n",
    "plt.figure(figsize=(32, 8))\n",
    "ax = sns.barplot(x=keys, y=vals, palette=pal);\n",
    "plt.xlabel('Works')\n",
    "plt.ylabel('Count per 1000 words')\n",
    "plt.title('κόσμος normalized counts in Greek Tesserae')\n",
    "ax.set_xticklabels(labels=keys, rotation=45, horizontalalignment='right');\n",
    "# ax.set_yticks(range(0, max(vals), 2))\n",
    "plt.show()"
   ]
  },
  {
   "cell_type": "code",
   "execution_count": null,
   "metadata": {},
   "outputs": [],
   "source": [
    "text = 'new_testament.i_john.tess'\n",
    "print(kosmos_counts[text])\n",
    "print(word_counts[text])"
   ]
  },
  {
   "cell_type": "code",
   "execution_count": null,
   "metadata": {},
   "outputs": [],
   "source": [
    "max_kosmos = list(kosmos_counts.keys())[list(kosmos_counts.values()).index(max(kosmos_counts.values()))]\n",
    "print(max_kosmos)\n",
    "print(kosmos_counts[max_kosmos])\n",
    "print(word_counts[max_kosmos])"
   ]
  }
 ],
 "metadata": {
  "kernelspec": {
   "display_name": "Python 3.8.12 64-bit ('dices-cltk')",
   "language": "python",
   "name": "python3"
  },
  "language_info": {
   "codemirror_mode": {
    "name": "ipython",
    "version": 3
   },
   "file_extension": ".py",
   "mimetype": "text/x-python",
   "name": "python",
   "nbconvert_exporter": "python",
   "pygments_lexer": "ipython3",
   "version": "3.8.12"
  },
  "orig_nbformat": 4,
  "vscode": {
   "interpreter": {
    "hash": "722141c9406b1dcc83acf381b8185d1d4666ff05b7b290c6068cadb45dd8b740"
   }
  }
 },
 "nbformat": 4,
 "nbformat_minor": 2
}
