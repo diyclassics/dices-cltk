{
 "cells": [
  {
   "cell_type": "code",
   "execution_count": null,
   "metadata": {},
   "outputs": [],
   "source": [
    "# Imports\n",
    "\n",
    "from cltk import NLP\n",
    "from cltkreaders.lat import LatinTesseraeCorpusReader\n",
    "from pprint import pprint"
   ]
  },
  {
   "cell_type": "code",
   "execution_count": null,
   "metadata": {},
   "outputs": [],
   "source": [
    "# Set up corpus\n",
    "\n",
    "T = LatinTesseraeCorpusReader()\n",
    "livy = 'livy.ab_urbe_condita.part.1.books_1-10.tess'\n",
    "livy_dict = next(T.doc_rows(livy))\n",
    "exemplum = livy_dict['<livy. urbe. 1.pr.7>']\n",
    "print(exemplum)"
   ]
  },
  {
   "cell_type": "code",
   "execution_count": null,
   "metadata": {},
   "outputs": [],
   "source": [
    "# Set up pipeline\n",
    "\n",
    "nlp = NLP(language='lat')"
   ]
  },
  {
   "cell_type": "code",
   "execution_count": null,
   "metadata": {},
   "outputs": [],
   "source": [
    "# You can add/remove components\n",
    "\n",
    "lexicon = nlp.pipeline.processes[5]\n",
    "nlp.pipeline.processes.remove(lexicon)\n",
    "pprint(nlp.pipeline)"
   ]
  },
  {
   "cell_type": "code",
   "execution_count": null,
   "metadata": {},
   "outputs": [],
   "source": [
    "doc = nlp.analyze(text=exemplum)"
   ]
  },
  {
   "cell_type": "code",
   "execution_count": null,
   "metadata": {},
   "outputs": [],
   "source": [
    "# Tokens\n",
    "\n",
    "print(doc.tokens)"
   ]
  },
  {
   "cell_type": "code",
   "execution_count": null,
   "metadata": {},
   "outputs": [],
   "source": [
    "# Lemmas\n",
    "\n",
    "print(doc.lemmata)"
   ]
  },
  {
   "cell_type": "code",
   "execution_count": null,
   "metadata": {},
   "outputs": [],
   "source": [
    "# POS tags\n",
    "\n",
    "print(doc.pos)"
   ]
  },
  {
   "cell_type": "code",
   "execution_count": null,
   "metadata": {},
   "outputs": [],
   "source": [
    "# Tokenized sentences\n",
    "\n",
    "print(doc.sentences_tokens)"
   ]
  },
  {
   "cell_type": "code",
   "execution_count": null,
   "metadata": {},
   "outputs": [],
   "source": [
    "# Word-level annotations\n",
    "\n",
    "sent = doc.sentences[0]\n",
    "word = sent[0]\n",
    "pprint(word)"
   ]
  },
  {
   "cell_type": "code",
   "execution_count": null,
   "metadata": {},
   "outputs": [],
   "source": [
    "# Dependency tree\n",
    "\n",
    "from cltk.dependency.tree import DependencyTree\n",
    "sent_string = doc.sentences_strings[0]\n",
    "tree = DependencyTree.to_tree(sent)\n",
    "tree.print_tree()"
   ]
  }
 ],
 "metadata": {
  "interpreter": {
   "hash": "f28f2655caa070e39b75c186f98b8f52da1af34bdb8dab0b58a93e2439370a2a"
  },
  "kernelspec": {
   "display_name": "Python 3.8.12 64-bit ('stanford')",
   "language": "python",
   "name": "python3"
  },
  "language_info": {
   "codemirror_mode": {
    "name": "ipython",
    "version": 3
   },
   "file_extension": ".py",
   "mimetype": "text/x-python",
   "name": "python",
   "nbconvert_exporter": "python",
   "pygments_lexer": "ipython3",
   "version": "3.8.12"
  },
  "orig_nbformat": 4
 },
 "nbformat": 4,
 "nbformat_minor": 2
}
