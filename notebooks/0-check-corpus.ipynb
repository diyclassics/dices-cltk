{
 "cells": [
  {
   "cell_type": "markdown",
   "metadata": {},
   "source": [
    "*A note on using Jupyter notebooks in this live demo*\n",
    "This notebook is meant to test that the Binder set up is working. We can also use it to learn a few things—quickly!—about Jupyter notebooks and how to navigate them.\n",
    "\n",
    "- TLDR; \"SHIFT + ENTER/RETURN\" will do pretty much everything you will need to do for the demo.\n",
    "- Look for the word \"# Imports\" below and click anywhere is its surrounding box to activate that input cell. These cells are where you will find the code that we will run in today's demo.\n",
    "- If you press \"SHIFT + ENTER/RETURN\", you will *run* that cell and the output will appear in space below the cell; you will also advance to the next cell. If you press \"CTRL + ENTER/RETURN\", you will run the cell without advancing. If you press \"OPTION (or ALT) + ENTER/RETURN\", you will run the cell and insert a new empty cell below the running cell.\n",
    "- Note the brackets on the left side of the cells. If empty—that is, if there is blank space between the cells—the cell has not yet been run. If there is a number between the brackets, this is an indicator that the cell has been run and denotes the order in which the cells have been run."
   ]
  },
  {
   "cell_type": "code",
   "execution_count": 6,
   "metadata": {},
   "outputs": [],
   "source": [
    "# Imports\n",
    "\n",
    "from cltkreaders.lat import LatinTesseraeCorpusReader"
   ]
  },
  {
   "cell_type": "code",
   "execution_count": null,
   "metadata": {},
   "outputs": [],
   "source": [
    "T = LatinTesseraeCorpusReader()"
   ]
  },
  {
   "cell_type": "code",
   "execution_count": null,
   "metadata": {},
   "outputs": [],
   "source": [
    "T.fileids()[:5]"
   ]
  }
 ],
 "metadata": {
  "kernelspec": {
   "display_name": "Python 3.8.12 64-bit ('dices-cltk')",
   "language": "python",
   "name": "python3"
  },
  "language_info": {
   "codemirror_mode": {
    "name": "ipython",
    "version": 3
   },
   "file_extension": ".py",
   "mimetype": "text/x-python",
   "name": "python",
   "nbconvert_exporter": "python",
   "pygments_lexer": "ipython3",
   "version": "3.8.12"
  },
  "orig_nbformat": 4,
  "vscode": {
   "interpreter": {
    "hash": "722141c9406b1dcc83acf381b8185d1d4666ff05b7b290c6068cadb45dd8b740"
   }
  }
 },
 "nbformat": 4,
 "nbformat_minor": 2
}
